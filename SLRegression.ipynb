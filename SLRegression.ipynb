{
 "cells": [
  {
   "cell_type": "markdown",
   "id": "c4625a68",
   "metadata": {},
   "source": [
    "# What is Life cycle of Machine Learning"
   ]
  },
  {
   "cell_type": "raw",
   "id": "f191e86b",
   "metadata": {},
   "source": [
    "step no1 : Problem Define\n",
    "           identify the problem\n",
    "          \n",
    "step no2 : Gathering Data\n",
    "           Collect data According to problem\n",
    "           Two Source of data set\n",
    "           1) primary Source\n",
    "           Collect data from \"questionnare\"\n",
    "           Collect data from \"StakHolder\"\n",
    "           Collect data from \"Survey \"\n",
    "           2) Secondary Source\n",
    "           Collect data from \" Organiztion\"\n",
    "           Collect data from \" previous research\"\n",
    "           \n",
    "step no3 : Data Selection\n",
    "            convert into usefull data\n",
    "\n",
    "step no4 : Explorartory Data analysis\n",
    "            Analysis\n",
    "            Visualization \n",
    "\n",
    "step no5 : Data PreProcessing\n",
    "           Cleaning te data\n",
    "           Missing value\n",
    "           Removing outlier \n",
    "\n",
    "step no6 : Transformation\n",
    "            convert data into standard form \n",
    "\n",
    "step no7 : Feacture selection\n",
    "            decided the input/Feactore variable \n",
    "\n",
    "step no8 : Model Selection\n",
    "            select model according to te problem\n",
    "\n",
    "step no9 : Model Traning\n",
    "            model trained 80percent  and test 20 percent \n",
    "\n",
    "step no10 : Model Evaluation\n",
    "            check te model accuracy\n",
    "\n",
    "step no11 : Model Deployment\n",
    "\n",
    "            \n"
   ]
  },
  {
   "cell_type": "markdown",
   "id": "2c2e924b",
   "metadata": {},
   "source": [
    "# Import Libraries"
   ]
  },
  {
   "cell_type": "code",
   "execution_count": 1,
   "id": "6a812efb",
   "metadata": {},
   "outputs": [],
   "source": [
    "import pandas as pd\n",
    "import numpy as np\n",
    "import seaborn as sns\n",
    "import matplotlib.pyplot as plt"
   ]
  },
  {
   "cell_type": "markdown",
   "id": "feb25c78",
   "metadata": {},
   "source": [
    "# Import data set"
   ]
  },
  {
   "cell_type": "code",
   "execution_count": 2,
   "id": "73851ff8",
   "metadata": {},
   "outputs": [],
   "source": [
    "data =pd.read_csv('C:/Users/User/Desktop/NEVTTC/MACHINE LEARNING/Supervised Learning/SLRegression/placement.csv')\n"
   ]
  },
  {
   "cell_type": "code",
   "execution_count": 3,
   "id": "cbe79b29",
   "metadata": {},
   "outputs": [
    {
     "data": {
      "text/html": [
       "<div>\n",
       "<style scoped>\n",
       "    .dataframe tbody tr th:only-of-type {\n",
       "        vertical-align: middle;\n",
       "    }\n",
       "\n",
       "    .dataframe tbody tr th {\n",
       "        vertical-align: top;\n",
       "    }\n",
       "\n",
       "    .dataframe thead th {\n",
       "        text-align: right;\n",
       "    }\n",
       "</style>\n",
       "<table border=\"1\" class=\"dataframe\">\n",
       "  <thead>\n",
       "    <tr style=\"text-align: right;\">\n",
       "      <th></th>\n",
       "      <th>cgpa</th>\n",
       "      <th>package</th>\n",
       "    </tr>\n",
       "  </thead>\n",
       "  <tbody>\n",
       "    <tr>\n",
       "      <th>0</th>\n",
       "      <td>6.89</td>\n",
       "      <td>3.26</td>\n",
       "    </tr>\n",
       "    <tr>\n",
       "      <th>1</th>\n",
       "      <td>5.12</td>\n",
       "      <td>1.98</td>\n",
       "    </tr>\n",
       "    <tr>\n",
       "      <th>2</th>\n",
       "      <td>7.82</td>\n",
       "      <td>3.25</td>\n",
       "    </tr>\n",
       "    <tr>\n",
       "      <th>3</th>\n",
       "      <td>7.42</td>\n",
       "      <td>3.67</td>\n",
       "    </tr>\n",
       "    <tr>\n",
       "      <th>4</th>\n",
       "      <td>6.94</td>\n",
       "      <td>3.57</td>\n",
       "    </tr>\n",
       "  </tbody>\n",
       "</table>\n",
       "</div>"
      ],
      "text/plain": [
       "   cgpa  package\n",
       "0  6.89     3.26\n",
       "1  5.12     1.98\n",
       "2  7.82     3.25\n",
       "3  7.42     3.67\n",
       "4  6.94     3.57"
      ]
     },
     "execution_count": 3,
     "metadata": {},
     "output_type": "execute_result"
    }
   ],
   "source": [
    "data.head()"
   ]
  },
  {
   "cell_type": "code",
   "execution_count": 4,
   "id": "57a44730",
   "metadata": {},
   "outputs": [
    {
     "data": {
      "text/plain": [
       "(200, 2)"
      ]
     },
     "execution_count": 4,
     "metadata": {},
     "output_type": "execute_result"
    }
   ],
   "source": [
    "data.shape"
   ]
  },
  {
   "cell_type": "markdown",
   "id": "3ffcc81e",
   "metadata": {},
   "source": [
    "# Exploratory Data Analysis"
   ]
  },
  {
   "cell_type": "code",
   "execution_count": 5,
   "id": "c15f8ff6",
   "metadata": {},
   "outputs": [
    {
     "data": {
      "text/html": [
       "<div>\n",
       "<style scoped>\n",
       "    .dataframe tbody tr th:only-of-type {\n",
       "        vertical-align: middle;\n",
       "    }\n",
       "\n",
       "    .dataframe tbody tr th {\n",
       "        vertical-align: top;\n",
       "    }\n",
       "\n",
       "    .dataframe thead th {\n",
       "        text-align: right;\n",
       "    }\n",
       "</style>\n",
       "<table border=\"1\" class=\"dataframe\">\n",
       "  <thead>\n",
       "    <tr style=\"text-align: right;\">\n",
       "      <th></th>\n",
       "      <th>cgpa</th>\n",
       "      <th>package</th>\n",
       "    </tr>\n",
       "  </thead>\n",
       "  <tbody>\n",
       "    <tr>\n",
       "      <th>count</th>\n",
       "      <td>200.0</td>\n",
       "      <td>200.0</td>\n",
       "    </tr>\n",
       "    <tr>\n",
       "      <th>mean</th>\n",
       "      <td>7.0</td>\n",
       "      <td>3.0</td>\n",
       "    </tr>\n",
       "    <tr>\n",
       "      <th>std</th>\n",
       "      <td>1.0</td>\n",
       "      <td>1.0</td>\n",
       "    </tr>\n",
       "    <tr>\n",
       "      <th>min</th>\n",
       "      <td>4.0</td>\n",
       "      <td>1.0</td>\n",
       "    </tr>\n",
       "    <tr>\n",
       "      <th>25%</th>\n",
       "      <td>6.0</td>\n",
       "      <td>2.0</td>\n",
       "    </tr>\n",
       "    <tr>\n",
       "      <th>50%</th>\n",
       "      <td>7.0</td>\n",
       "      <td>3.0</td>\n",
       "    </tr>\n",
       "    <tr>\n",
       "      <th>75%</th>\n",
       "      <td>8.0</td>\n",
       "      <td>3.0</td>\n",
       "    </tr>\n",
       "    <tr>\n",
       "      <th>max</th>\n",
       "      <td>10.0</td>\n",
       "      <td>5.0</td>\n",
       "    </tr>\n",
       "  </tbody>\n",
       "</table>\n",
       "</div>"
      ],
      "text/plain": [
       "        cgpa  package\n",
       "count  200.0    200.0\n",
       "mean     7.0      3.0\n",
       "std      1.0      1.0\n",
       "min      4.0      1.0\n",
       "25%      6.0      2.0\n",
       "50%      7.0      3.0\n",
       "75%      8.0      3.0\n",
       "max     10.0      5.0"
      ]
     },
     "execution_count": 5,
     "metadata": {},
     "output_type": "execute_result"
    }
   ],
   "source": [
    "data.describe().round()"
   ]
  },
  {
   "cell_type": "code",
   "execution_count": 6,
   "id": "c07bb131",
   "metadata": {},
   "outputs": [
    {
     "data": {
      "image/png": "[encoded data removed]",
      "text/plain": [
       "<Figure size 1152x576 with 1 Axes>"
      ]
     },
     "metadata": {
      "needs_background": "light"
     },
     "output_type": "display_data"
    }
   ],
   "source": [
    "# Exploratory Data Analysis\n",
    "plt.figure(figsize=(16,8))\n",
    "plt.scatter(data['cgpa'] ,data['package'])\n",
    "plt.xlabel('CGPA' ,size=21)\n",
    "plt.ylabel('Package' ,size=21)\n",
    "plt.title('Student CGPA Graph' , size=27)\n",
    "plt.show()"
   ]
  },
  {
   "cell_type": "markdown",
   "id": "9098a853",
   "metadata": {},
   "source": [
    "# DATA Preprocessing"
   ]
  },
  {
   "cell_type": "code",
   "execution_count": 7,
   "id": "e8e784b4",
   "metadata": {},
   "outputs": [
    {
     "data": {
      "text/plain": [
       "cgpa       0\n",
       "package    0\n",
       "dtype: int64"
      ]
     },
     "execution_count": 7,
     "metadata": {},
     "output_type": "execute_result"
    }
   ],
   "source": [
    "data.isnull().sum()"
   ]
  },
  {
   "cell_type": "code",
   "execution_count": 8,
   "id": "a031339b",
   "metadata": {},
   "outputs": [
    {
     "data": {
      "text/plain": [
       "0"
      ]
     },
     "execution_count": 8,
     "metadata": {},
     "output_type": "execute_result"
    }
   ],
   "source": [
    "data.isnull().sum().sum()"
   ]
  },
  {
   "cell_type": "code",
   "execution_count": 9,
   "id": "c7ed081f",
   "metadata": {},
   "outputs": [
    {
     "data": {
      "text/plain": [
       "<AxesSubplot:>"
      ]
     },
     "execution_count": 9,
     "metadata": {},
     "output_type": "execute_result"
    },
    {
     "data": {
      "image/png": "[encoded data removed]",
      "text/plain": [
       "<Figure size 432x288 with 2 Axes>"
      ]
     },
     "metadata": {
      "needs_background": "light"
     },
     "output_type": "display_data"
    }
   ],
   "source": [
    "sns.heatmap(data.isnull())"
   ]
  },
  {
   "cell_type": "code",
   "execution_count": 10,
   "id": "22731fc6",
   "metadata": {},
   "outputs": [
    {
     "name": "stderr",
     "output_type": "stream",
     "text": [
      "C:\\Users\\User\\anaconda3\\lib\\site-packages\\seaborn\\_decorators.py:36: FutureWarning: Pass the following variable as a keyword arg: x. From version 0.12, the only valid positional argument will be `data`, and passing other arguments without an explicit keyword will result in an error or misinterpretation.\n",
      "  warnings.warn(\n",
      "C:\\Users\\User\\anaconda3\\lib\\site-packages\\seaborn\\_decorators.py:36: FutureWarning: Pass the following variable as a keyword arg: x. From version 0.12, the only valid positional argument will be `data`, and passing other arguments without an explicit keyword will result in an error or misinterpretation.\n",
      "  warnings.warn(\n"
     ]
    },
    {
     "data": {
      "text/plain": [
       "<AxesSubplot:xlabel='package'>"
      ]
     },
     "execution_count": 10,
     "metadata": {},
     "output_type": "execute_result"
    },
    {
     "data": {
      "image/png": "[encoded data removed]",
      "text/plain": [
       "<Figure size 1224x576 with 2 Axes>"
      ]
     },
     "metadata": {
      "needs_background": "light"
     },
     "output_type": "display_data"
    }
   ],
   "source": [
    "plt.figure(figsize=(17,8))\n",
    "plt.subplot(2,2,1)\n",
    "sns.boxplot(data['cgpa'])\n",
    "\n",
    "plt.subplot(2,2,3)\n",
    "sns.boxplot(data['package'])"
   ]
  },
  {
   "cell_type": "markdown",
   "id": "f15309f1",
   "metadata": {},
   "source": [
    "# SPLIT DATA SET "
   ]
  },
  {
   "cell_type": "code",
   "execution_count": 11,
   "id": "4135c4a5",
   "metadata": {},
   "outputs": [],
   "source": [
    "x=data[['cgpa']]\n",
    "y=data[['package']]"
   ]
  },
  {
   "cell_type": "code",
   "execution_count": 12,
   "id": "b021db2b",
   "metadata": {},
   "outputs": [
    {
     "data": {
      "text/html": [
       "<div>\n",
       "<style scoped>\n",
       "    .dataframe tbody tr th:only-of-type {\n",
       "        vertical-align: middle;\n",
       "    }\n",
       "\n",
       "    .dataframe tbody tr th {\n",
       "        vertical-align: top;\n",
       "    }\n",
       "\n",
       "    .dataframe thead th {\n",
       "        text-align: right;\n",
       "    }\n",
       "</style>\n",
       "<table border=\"1\" class=\"dataframe\">\n",
       "  <thead>\n",
       "    <tr style=\"text-align: right;\">\n",
       "      <th></th>\n",
       "      <th>cgpa</th>\n",
       "    </tr>\n",
       "  </thead>\n",
       "  <tbody>\n",
       "    <tr>\n",
       "      <th>0</th>\n",
       "      <td>6.89</td>\n",
       "    </tr>\n",
       "    <tr>\n",
       "      <th>1</th>\n",
       "      <td>5.12</td>\n",
       "    </tr>\n",
       "    <tr>\n",
       "      <th>2</th>\n",
       "      <td>7.82</td>\n",
       "    </tr>\n",
       "    <tr>\n",
       "      <th>3</th>\n",
       "      <td>7.42</td>\n",
       "    </tr>\n",
       "    <tr>\n",
       "      <th>4</th>\n",
       "      <td>6.94</td>\n",
       "    </tr>\n",
       "  </tbody>\n",
       "</table>\n",
       "</div>"
      ],
      "text/plain": [
       "   cgpa\n",
       "0  6.89\n",
       "1  5.12\n",
       "2  7.82\n",
       "3  7.42\n",
       "4  6.94"
      ]
     },
     "execution_count": 12,
     "metadata": {},
     "output_type": "execute_result"
    }
   ],
   "source": [
    "x.head()"
   ]
  },
  {
   "cell_type": "code",
   "execution_count": 13,
   "id": "2901a8df",
   "metadata": {},
   "outputs": [
    {
     "data": {
      "text/html": [
       "<div>\n",
       "<style scoped>\n",
       "    .dataframe tbody tr th:only-of-type {\n",
       "        vertical-align: middle;\n",
       "    }\n",
       "\n",
       "    .dataframe tbody tr th {\n",
       "        vertical-align: top;\n",
       "    }\n",
       "\n",
       "    .dataframe thead th {\n",
       "        text-align: right;\n",
       "    }\n",
       "</style>\n",
       "<table border=\"1\" class=\"dataframe\">\n",
       "  <thead>\n",
       "    <tr style=\"text-align: right;\">\n",
       "      <th></th>\n",
       "      <th>package</th>\n",
       "    </tr>\n",
       "  </thead>\n",
       "  <tbody>\n",
       "    <tr>\n",
       "      <th>0</th>\n",
       "      <td>3.26</td>\n",
       "    </tr>\n",
       "    <tr>\n",
       "      <th>1</th>\n",
       "      <td>1.98</td>\n",
       "    </tr>\n",
       "    <tr>\n",
       "      <th>2</th>\n",
       "      <td>3.25</td>\n",
       "    </tr>\n",
       "    <tr>\n",
       "      <th>3</th>\n",
       "      <td>3.67</td>\n",
       "    </tr>\n",
       "    <tr>\n",
       "      <th>4</th>\n",
       "      <td>3.57</td>\n",
       "    </tr>\n",
       "  </tbody>\n",
       "</table>\n",
       "</div>"
      ],
      "text/plain": [
       "   package\n",
       "0     3.26\n",
       "1     1.98\n",
       "2     3.25\n",
       "3     3.67\n",
       "4     3.57"
      ]
     },
     "execution_count": 13,
     "metadata": {},
     "output_type": "execute_result"
    }
   ],
   "source": [
    "y.head()"
   ]
  },
  {
   "cell_type": "markdown",
   "id": "94adb3f8",
   "metadata": {},
   "source": [
    "# Split data set Test and Train"
   ]
  },
  {
   "cell_type": "code",
   "execution_count": 14,
   "id": "d7ccdcf0",
   "metadata": {},
   "outputs": [],
   "source": [
    "from sklearn.model_selection import train_test_split\n",
    "x_train , x_test ,y_train ,y_test =train_test_split(x,y , test_size= 0.2 ,random_state=0) "
   ]
  },
  {
   "cell_type": "code",
   "execution_count": 15,
   "id": "7d62adbe",
   "metadata": {},
   "outputs": [
    {
     "name": "stdout",
     "output_type": "stream",
     "text": [
      "shape of x_tarin =  (160, 1)\n",
      "shape of x_test =  (40, 1)\n",
      "shape of y_tarin =  (160, 1)\n",
      "shape of y_test =  (40, 1)\n"
     ]
    }
   ],
   "source": [
    "print('shape of x_tarin = ', x_train.shape )\n",
    "print('shape of x_test = ', x_test.shape )\n",
    "print('shape of y_tarin = ', y_train.shape )\n",
    "print('shape of y_test = ', y_test.shape )"
   ]
  },
  {
   "cell_type": "markdown",
   "id": "68b738e0",
   "metadata": {},
   "source": [
    "# Fit simple Linear Regression"
   ]
  },
  {
   "cell_type": "code",
   "execution_count": 16,
   "id": "6142f8c8",
   "metadata": {},
   "outputs": [],
   "source": [
    "from sklearn.linear_model import LinearRegression\n",
    "model=LinearRegression().fit(x_train,y_train)"
   ]
  },
  {
   "cell_type": "code",
   "execution_count": 17,
   "id": "246c1278",
   "metadata": {},
   "outputs": [
    {
     "data": {
      "text/plain": [
       "LinearRegression()"
      ]
     },
     "execution_count": 17,
     "metadata": {},
     "output_type": "execute_result"
    }
   ],
   "source": [
    "model"
   ]
  },
  {
   "cell_type": "markdown",
   "id": "7025ee79",
   "metadata": {},
   "source": [
    "# Check model performance "
   ]
  },
  {
   "cell_type": "code",
   "execution_count": 18,
   "id": "1bb87414",
   "metadata": {},
   "outputs": [
    {
     "data": {
      "text/html": [
       "<div>\n",
       "<style scoped>\n",
       "    .dataframe tbody tr th:only-of-type {\n",
       "        vertical-align: middle;\n",
       "    }\n",
       "\n",
       "    .dataframe tbody tr th {\n",
       "        vertical-align: top;\n",
       "    }\n",
       "\n",
       "    .dataframe thead th {\n",
       "        text-align: right;\n",
       "    }\n",
       "</style>\n",
       "<table border=\"1\" class=\"dataframe\">\n",
       "  <thead>\n",
       "    <tr style=\"text-align: right;\">\n",
       "      <th></th>\n",
       "      <th>cgpa</th>\n",
       "    </tr>\n",
       "  </thead>\n",
       "  <tbody>\n",
       "    <tr>\n",
       "      <th>0</th>\n",
       "      <td>6.89</td>\n",
       "    </tr>\n",
       "    <tr>\n",
       "      <th>1</th>\n",
       "      <td>5.12</td>\n",
       "    </tr>\n",
       "    <tr>\n",
       "      <th>2</th>\n",
       "      <td>7.82</td>\n",
       "    </tr>\n",
       "    <tr>\n",
       "      <th>3</th>\n",
       "      <td>7.42</td>\n",
       "    </tr>\n",
       "    <tr>\n",
       "      <th>4</th>\n",
       "      <td>6.94</td>\n",
       "    </tr>\n",
       "  </tbody>\n",
       "</table>\n",
       "</div>"
      ],
      "text/plain": [
       "   cgpa\n",
       "0  6.89\n",
       "1  5.12\n",
       "2  7.82\n",
       "3  7.42\n",
       "4  6.94"
      ]
     },
     "execution_count": 18,
     "metadata": {},
     "output_type": "execute_result"
    }
   ],
   "source": [
    "x.head()"
   ]
  },
  {
   "cell_type": "code",
   "execution_count": 19,
   "id": "a00da686",
   "metadata": {},
   "outputs": [
    {
     "data": {
      "text/html": [
       "<div>\n",
       "<style scoped>\n",
       "    .dataframe tbody tr th:only-of-type {\n",
       "        vertical-align: middle;\n",
       "    }\n",
       "\n",
       "    .dataframe tbody tr th {\n",
       "        vertical-align: top;\n",
       "    }\n",
       "\n",
       "    .dataframe thead th {\n",
       "        text-align: right;\n",
       "    }\n",
       "</style>\n",
       "<table border=\"1\" class=\"dataframe\">\n",
       "  <thead>\n",
       "    <tr style=\"text-align: right;\">\n",
       "      <th></th>\n",
       "      <th>package</th>\n",
       "    </tr>\n",
       "  </thead>\n",
       "  <tbody>\n",
       "    <tr>\n",
       "      <th>0</th>\n",
       "      <td>3.26</td>\n",
       "    </tr>\n",
       "    <tr>\n",
       "      <th>1</th>\n",
       "      <td>1.98</td>\n",
       "    </tr>\n",
       "    <tr>\n",
       "      <th>2</th>\n",
       "      <td>3.25</td>\n",
       "    </tr>\n",
       "    <tr>\n",
       "      <th>3</th>\n",
       "      <td>3.67</td>\n",
       "    </tr>\n",
       "    <tr>\n",
       "      <th>4</th>\n",
       "      <td>3.57</td>\n",
       "    </tr>\n",
       "  </tbody>\n",
       "</table>\n",
       "</div>"
      ],
      "text/plain": [
       "   package\n",
       "0     3.26\n",
       "1     1.98\n",
       "2     3.25\n",
       "3     3.67\n",
       "4     3.57"
      ]
     },
     "execution_count": 19,
     "metadata": {},
     "output_type": "execute_result"
    }
   ],
   "source": [
    "y.head()"
   ]
  },
  {
   "cell_type": "code",
   "execution_count": 20,
   "id": "f52dd974",
   "metadata": {},
   "outputs": [
    {
     "data": {
      "text/plain": [
       "array([[3.23523806]])"
      ]
     },
     "execution_count": 20,
     "metadata": {},
     "output_type": "execute_result"
    }
   ],
   "source": [
    "model.predict([[7.4]])"
   ]
  },
  {
   "cell_type": "markdown",
   "id": "4feb8622",
   "metadata": {},
   "source": [
    "# Model Equaction"
   ]
  },
  {
   "cell_type": "code",
   "execution_count": 21,
   "id": "e3a92672",
   "metadata": {},
   "outputs": [
    {
     "name": "stdout",
     "output_type": "stream",
     "text": [
      " intercept : [-1.02960704]\n",
      "coefficient : [[0.57633042]]\n"
     ]
    }
   ],
   "source": [
    "print(' intercept :',model.intercept_)\n",
    "print('coefficient :', model.coef_ )"
   ]
  },
  {
   "cell_type": "markdown",
   "id": "2a5377d7",
   "metadata": {},
   "source": [
    "# plot"
   ]
  },
  {
   "cell_type": "code",
   "execution_count": 22,
   "id": "ecc25311",
   "metadata": {},
   "outputs": [
    {
     "data": {
      "image/png": "[encoded data removed]",
      "text/plain": [
       "<Figure size 432x288 with 1 Axes>"
      ]
     },
     "metadata": {
      "needs_background": "light"
     },
     "output_type": "display_data"
    }
   ],
   "source": [
    "plt.scatter(x_train , y_train)\n",
    "plt.plot(x_train , model.predict(x_train), color ='red' )\n",
    "plt.xlabel('CGPA' ,size=18)\n",
    "plt.ylabel('Package' ,size=18)\n",
    "plt.title('Trained plot' , size=27)\n",
    "plt.show()"
   ]
  },
  {
   "cell_type": "code",
   "execution_count": 23,
   "id": "8555829f",
   "metadata": {},
   "outputs": [
    {
     "data": {
      "image/png": "[encoded data removed]",
      "text/plain": [
       "<Figure size 432x288 with 1 Axes>"
      ]
     },
     "metadata": {
      "needs_background": "light"
     },
     "output_type": "display_data"
    }
   ],
   "source": [
    "plt.scatter(x_test , y_test)\n",
    "plt.plot(x_test , model.predict(x_test), color ='red' )\n",
    "plt.xlabel('CGPA' ,size=18)\n",
    "plt.ylabel('Package' ,size=18)\n",
    "plt.title('Test plot' , size=27)\n",
    "plt.show()"
   ]
  },
  {
   "cell_type": "markdown",
   "id": "10711ce2",
   "metadata": {},
   "source": [
    "# MOdel Evaluation "
   ]
  },
  {
   "cell_type": "code",
   "execution_count": 24,
   "id": "356d50ae",
   "metadata": {},
   "outputs": [
    {
     "data": {
      "text/plain": [
       "0.7813227298629095"
      ]
     },
     "execution_count": 24,
     "metadata": {},
     "output_type": "execute_result"
    }
   ],
   "source": [
    "model.score(x_train ,y_train)\n"
   ]
  },
  {
   "cell_type": "code",
   "execution_count": 25,
   "id": "c53efe6c",
   "metadata": {},
   "outputs": [
    {
     "data": {
      "text/plain": [
       "0.7297167943957027"
      ]
     },
     "execution_count": 25,
     "metadata": {},
     "output_type": "execute_result"
    }
   ],
   "source": [
    "model.score(x_test ,y_test)"
   ]
  },
  {
   "cell_type": "code",
   "execution_count": 26,
   "id": "65504c93",
   "metadata": {},
   "outputs": [
    {
     "name": "stdout",
     "output_type": "stream",
     "text": [
      "Score for test model = 0.7297167943957027\n",
      "Score for train model = 0.7813227298629095\n"
     ]
    }
   ],
   "source": [
    "print('Score for test model =' , model.score(x_test , y_test)  )\n",
    "print('Score for train model =' , model.score(x_train , y_train) )"
   ]
  },
  {
   "cell_type": "markdown",
   "id": "fa9e37f0",
   "metadata": {},
   "source": [
    "# Prediction"
   ]
  },
  {
   "cell_type": "code",
   "execution_count": 27,
   "id": "c4c780b8",
   "metadata": {},
   "outputs": [
    {
     "data": {
      "text/plain": [
       "array([[3.23523806]])"
      ]
     },
     "execution_count": 27,
     "metadata": {},
     "output_type": "execute_result"
    }
   ],
   "source": [
    "model.predict([[7.4]])"
   ]
  },
  {
   "cell_type": "markdown",
   "id": "ae262769",
   "metadata": {},
   "source": [
    "## Actual value and the predicted value"
   ]
  },
  {
   "cell_type": "code",
   "execution_count": 28,
   "id": "255d1e6f",
   "metadata": {},
   "outputs": [
    {
     "data": {
      "text/plain": [
       "{'Actual_value':      package\n",
       " 18      2.98\n",
       " 170     2.87\n",
       " 107     2.59\n",
       " 98      3.83\n",
       " 177     3.64\n",
       " 182     2.08\n",
       " 5       2.99\n",
       " 146     2.46\n",
       " 12      3.65\n",
       " 152     3.08\n",
       " 61      1.61\n",
       " 125     3.16\n",
       " 180     2.72\n",
       " 154     2.85\n",
       " 80      3.44\n",
       " 7       2.48\n",
       " 33      2.73\n",
       " 130     2.49\n",
       " 37      2.43\n",
       " 74      3.44\n",
       " 183     2.72\n",
       " 145     2.18\n",
       " 45      3.58\n",
       " 159     4.08\n",
       " 60      2.19\n",
       " 123     2.30\n",
       " 179     3.03\n",
       " 185     3.18\n",
       " 122     2.01\n",
       " 44      1.86\n",
       " 16      2.35\n",
       " 55      3.39\n",
       " 150     2.73\n",
       " 111     2.25\n",
       " 22      2.30\n",
       " 189     4.06\n",
       " 129     3.12\n",
       " 4       3.57\n",
       " 83      3.49\n",
       " 106     2.19,\n",
       " 'predicted_value': array([[2.97012606],\n",
       "        [2.55516816],\n",
       "        [2.61856451],\n",
       "        [3.40237388],\n",
       "        [3.05657563],\n",
       "        [2.35921582],\n",
       "        [3.51763996],\n",
       "        [2.4687186 ],\n",
       "        [4.1227869 ],\n",
       "        [3.21794814],\n",
       "        [2.12868365],\n",
       "        [3.19489493],\n",
       "        [2.53787825],\n",
       "        [3.05081232],\n",
       "        [3.36779405],\n",
       "        [2.86062328],\n",
       "        [2.63009112],\n",
       "        [2.82028015],\n",
       "        [2.37074243],\n",
       "        [2.91825632],\n",
       "        [3.1660784 ],\n",
       "        [2.3361626 ],\n",
       "        [3.50611335],\n",
       "        [3.9902309 ],\n",
       "        [2.20360661],\n",
       "        [1.90967809],\n",
       "        [3.08539215],\n",
       "        [2.6070379 ],\n",
       "        [1.9212047 ],\n",
       "        [1.90391479],\n",
       "        [2.91249302],\n",
       "        [3.69630239],\n",
       "        [2.60127459],\n",
       "        [2.09410383],\n",
       "        [2.50906173],\n",
       "        [3.64443265],\n",
       "        [3.17184171],\n",
       "        [2.97012606],\n",
       "        [3.83462169],\n",
       "        [2.50329842]])}"
      ]
     },
     "execution_count": 28,
     "metadata": {},
     "output_type": "execute_result"
    }
   ],
   "source": [
    "Slr_diff ={'Actual_value': y_test ,   'predicted_value': model.predict(x_test)}\n",
    "Slr_diff"
   ]
  },
  {
   "cell_type": "markdown",
   "id": "26b2170d",
   "metadata": {},
   "source": [
    "# Future Prediction"
   ]
  },
  {
   "cell_type": "code",
   "execution_count": 29,
   "id": "8e6957f1",
   "metadata": {},
   "outputs": [
    {
     "data": {
      "text/plain": [
       "array([[4.56079802]])"
      ]
     },
     "execution_count": 29,
     "metadata": {},
     "output_type": "execute_result"
    }
   ],
   "source": [
    "model.predict([[9.7]])"
   ]
  },
  {
   "cell_type": "markdown",
   "id": "9c60deb6",
   "metadata": {},
   "source": [
    "# Error "
   ]
  },
  {
   "cell_type": "code",
   "execution_count": 30,
   "id": "ae5f3fe1",
   "metadata": {},
   "outputs": [],
   "source": [
    "from sklearn import metrics"
   ]
  },
  {
   "cell_type": "code",
   "execution_count": 31,
   "id": "575e00b2",
   "metadata": {},
   "outputs": [
    {
     "name": "stdout",
     "output_type": "stream",
     "text": [
      "mean absolute error 0.2552433448620408\n"
     ]
    }
   ],
   "source": [
    "print('mean absolute error' , metrics.mean_absolute_error(y_test,model.predict(x_test)))\n"
   ]
  },
  {
   "cell_type": "code",
   "execution_count": 32,
   "id": "f809f22c",
   "metadata": {},
   "outputs": [
    {
     "name": "stdout",
     "output_type": "stream",
     "text": [
      "mean square error 0.10221131059334207\n"
     ]
    }
   ],
   "source": [
    "print('mean square error', metrics.mean_squared_error(y_test,model.predict(x_test)) )\n"
   ]
  },
  {
   "cell_type": "code",
   "execution_count": 33,
   "id": "d2e04e48",
   "metadata": {},
   "outputs": [
    {
     "name": "stdout",
     "output_type": "stream",
     "text": [
      "root mean square error 0.31970503685951224\n"
     ]
    }
   ],
   "source": [
    "print('root mean square error',np.sqrt(metrics.mean_squared_error(y_test,model.predict(x_test))) )"
   ]
  },
  {
   "cell_type": "code",
   "execution_count": 34,
   "id": "690d44a6",
   "metadata": {},
   "outputs": [
    {
     "name": "stdout",
     "output_type": "stream",
     "text": [
      "r square error 0.7297167943957027\n"
     ]
    }
   ],
   "source": [
    "print('r square error',metrics.r2_score(y_test , model.predict(x_test)))"
   ]
  },
  {
   "cell_type": "code",
   "execution_count": 35,
   "id": "0aaf58d2",
   "metadata": {},
   "outputs": [
    {
     "name": "stdout",
     "output_type": "stream",
     "text": [
      "adjusted r2 0.7226040784587475\n"
     ]
    }
   ],
   "source": [
    "# adjestic r2\n",
    "r2=metrics.r2_score(y_test , model.predict(x_test))\n",
    "print('adjusted r2', 1-((1-r2)*(40-1)/(40-1-1)))"
   ]
  },
  {
   "cell_type": "markdown",
   "id": "d82134d1",
   "metadata": {},
   "source": [
    "# Conclusion\n",
    "\n",
    "The Multiple Linear Regression model performs well as 72.27% of the data fit the regression model. Also, the mean absolute error, mean square error, and the root mean square error are less."
   ]
  }
 ],
 "metadata": {
  "kernelspec": {
   "display_name": "Python 3",
   "language": "python",
   "name": "python3"
  },
  "language_info": {
   "codemirror_mode": {
    "name": "ipython",
    "version": 3
   },
   "file_extension": ".py",
   "mimetype": "text/x-python",
   "name": "python",
   "nbconvert_exporter": "python",
   "pygments_lexer": "ipython3",
   "version": "3.8.8"
  }
 },
 "nbformat": 4,
 "nbformat_minor": 5
}
